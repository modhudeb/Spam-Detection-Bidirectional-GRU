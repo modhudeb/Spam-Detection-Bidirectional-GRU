{
  "cells": [
    {
      "cell_type": "markdown",
      "metadata": {
        "id": "view-in-github",
        "colab_type": "text"
      },
      "source": [
        "<a href=\"https://colab.research.google.com/github/modhudeb/Spam-Detection-Bidirectional-GRU/blob/main/Spam_detection_Model.ipynb\" target=\"_parent\"><img src=\"https://colab.research.google.com/assets/colab-badge.svg\" alt=\"Open In Colab\"/></a>"
      ]
    },
    {
      "cell_type": "markdown",
      "metadata": {
        "id": "ncYTh61lKsef"
      },
      "source": [
        "# Imports"
      ]
    },
    {
      "cell_type": "code",
      "execution_count": 27,
      "metadata": {
        "id": "lVxWokakK3bs"
      },
      "outputs": [],
      "source": [
        "import numpy as np\n",
        "import pandas as pd\n",
        "import tensorflow as tf\n",
        "import gensim"
      ]
    },
    {
      "cell_type": "code",
      "execution_count": null,
      "metadata": {
        "id": "5Hnj09Z3Rc4b"
      },
      "outputs": [],
      "source": [
        "!pip install contractions"
      ]
    },
    {
      "cell_type": "code",
      "execution_count": 29,
      "metadata": {
        "id": "RGJYAkLfK6f0"
      },
      "outputs": [],
      "source": [
        "import re\n",
        "import nltk\n",
        "import contractions"
      ]
    },
    {
      "cell_type": "code",
      "execution_count": null,
      "metadata": {
        "id": "OTdEGYrpIdsS"
      },
      "outputs": [],
      "source": [
        "nltk.download('wordnet')"
      ]
    },
    {
      "cell_type": "code",
      "execution_count": 31,
      "metadata": {
        "id": "kWfB_HDdKwuM"
      },
      "outputs": [],
      "source": [
        "# !pip install transformers"
      ]
    },
    {
      "cell_type": "code",
      "execution_count": null,
      "metadata": {
        "id": "3qTLmco5HbQW"
      },
      "outputs": [],
      "source": [
        "!pip install nlpaug"
      ]
    },
    {
      "cell_type": "code",
      "execution_count": 33,
      "metadata": {
        "id": "m1hnZGNFUPGa"
      },
      "outputs": [],
      "source": [
        "import nlpaug.augmenter.word as naw"
      ]
    },
    {
      "cell_type": "code",
      "execution_count": 134,
      "metadata": {
        "id": "XaAvU02iTWra"
      },
      "outputs": [],
      "source": [
        "import tensorflow.keras as keras\n",
        "from sklearn.metrics import classification_report"
      ]
    },
    {
      "cell_type": "code",
      "execution_count": 34,
      "metadata": {
        "id": "V4sM2IyITWhK"
      },
      "outputs": [],
      "source": [
        "from nltk.tokenize import word_tokenize\n",
        "from nltk.corpus import stopwords\n",
        "from nltk.stem import WordNetLemmatizer"
      ]
    },
    {
      "cell_type": "code",
      "execution_count": null,
      "metadata": {
        "id": "jxHAOGSrUAvZ"
      },
      "outputs": [],
      "source": [
        "nltk.download('stopwords')\n",
        "nltk.download('punkt')"
      ]
    },
    {
      "cell_type": "code",
      "source": [],
      "metadata": {
        "id": "cO7PdBlW_DGJ"
      },
      "execution_count": null,
      "outputs": []
    },
    {
      "cell_type": "code",
      "source": [
        "from keras.callbacks import EarlyStopping"
      ],
      "metadata": {
        "id": "Psm6sB7__BE8"
      },
      "execution_count": 132,
      "outputs": []
    },
    {
      "cell_type": "markdown",
      "metadata": {
        "id": "iS_PceF7LYG3"
      },
      "source": [
        "# Loading data"
      ]
    },
    {
      "cell_type": "code",
      "execution_count": null,
      "metadata": {
        "id": "LaiQIEmbLZRt"
      },
      "outputs": [],
      "source": [
        "data = pd.read_csv('emails.csv', encoding='latin-1')"
      ]
    },
    {
      "cell_type": "code",
      "execution_count": null,
      "metadata": {
        "id": "a7iDcrYNLgvt"
      },
      "outputs": [],
      "source": [
        "df = data.copy()"
      ]
    },
    {
      "cell_type": "code",
      "execution_count": null,
      "metadata": {
        "id": "hr79DepfLh-l"
      },
      "outputs": [],
      "source": []
    },
    {
      "cell_type": "markdown",
      "metadata": {
        "id": "nb2c4xYgLqZV"
      },
      "source": [
        "# Code"
      ]
    },
    {
      "cell_type": "markdown",
      "metadata": {
        "id": "j4V_wQS0LugH"
      },
      "source": [
        "## Preprocessing part-1 (collecting data from different datasets and merge)"
      ]
    },
    {
      "cell_type": "code",
      "execution_count": null,
      "metadata": {
        "colab": {
          "base_uri": "https://localhost:8080/"
        },
        "id": "g9tJVANaLyuE",
        "outputId": "00888556-cc92-4536-9da5-2c3fca28d1fb"
      },
      "outputs": [
        {
          "name": "stdout",
          "output_type": "stream",
          "text": [
            "<class 'pandas.core.frame.DataFrame'>\n",
            "RangeIndex: 5728 entries, 0 to 5727\n",
            "Data columns (total 2 columns):\n",
            " #   Column  Non-Null Count  Dtype \n",
            "---  ------  --------------  ----- \n",
            " 0   Text    5728 non-null   object\n",
            " 1   Spam    5728 non-null   int64 \n",
            "dtypes: int64(1), object(1)\n",
            "memory usage: 89.6+ KB\n"
          ]
        }
      ],
      "source": [
        "df.info()"
      ]
    },
    {
      "cell_type": "code",
      "execution_count": null,
      "metadata": {
        "colab": {
          "base_uri": "https://localhost:8080/"
        },
        "id": "uqZChBWpL_lE",
        "outputId": "60d088b3-a94b-4e47-b664-c7e630260f21"
      },
      "outputs": [
        {
          "data": {
            "text/plain": [
              "Text    Subject: naturally irresistible your corporate...\n",
              "Spam                                                    1\n",
              "Name: 0, dtype: object"
            ]
          },
          "execution_count": 92,
          "metadata": {},
          "output_type": "execute_result"
        }
      ],
      "source": [
        "df.iloc[0]"
      ]
    },
    {
      "cell_type": "code",
      "execution_count": null,
      "metadata": {
        "id": "AP4OwOqDMIW0"
      },
      "outputs": [],
      "source": [
        "spams = df[df['Spam']==1]"
      ]
    },
    {
      "cell_type": "code",
      "execution_count": null,
      "metadata": {
        "colab": {
          "base_uri": "https://localhost:8080/",
          "height": 112
        },
        "id": "LCmOjujUMXck",
        "outputId": "fccc8fb5-059e-4e91-8a6e-74b5463262d2"
      },
      "outputs": [
        {
          "data": {
            "text/html": [
              "\n",
              "  <div id=\"df-4c9fdd4c-8543-4b2e-b47d-48063f0de419\">\n",
              "    <div class=\"colab-df-container\">\n",
              "      <div>\n",
              "<style scoped>\n",
              "    .dataframe tbody tr th:only-of-type {\n",
              "        vertical-align: middle;\n",
              "    }\n",
              "\n",
              "    .dataframe tbody tr th {\n",
              "        vertical-align: top;\n",
              "    }\n",
              "\n",
              "    .dataframe thead th {\n",
              "        text-align: right;\n",
              "    }\n",
              "</style>\n",
              "<table border=\"1\" class=\"dataframe\">\n",
              "  <thead>\n",
              "    <tr style=\"text-align: right;\">\n",
              "      <th></th>\n",
              "      <th>Text</th>\n",
              "      <th>Spam</th>\n",
              "    </tr>\n",
              "  </thead>\n",
              "  <tbody>\n",
              "    <tr>\n",
              "      <th>0</th>\n",
              "      <td>Subject: naturally irresistible your corporate...</td>\n",
              "      <td>1</td>\n",
              "    </tr>\n",
              "    <tr>\n",
              "      <th>1</th>\n",
              "      <td>Subject: the stock trading gunslinger  fanny i...</td>\n",
              "      <td>1</td>\n",
              "    </tr>\n",
              "  </tbody>\n",
              "</table>\n",
              "</div>\n",
              "      <button class=\"colab-df-convert\" onclick=\"convertToInteractive('df-4c9fdd4c-8543-4b2e-b47d-48063f0de419')\"\n",
              "              title=\"Convert this dataframe to an interactive table.\"\n",
              "              style=\"display:none;\">\n",
              "        \n",
              "  <svg xmlns=\"http://www.w3.org/2000/svg\" height=\"24px\"viewBox=\"0 0 24 24\"\n",
              "       width=\"24px\">\n",
              "    <path d=\"M0 0h24v24H0V0z\" fill=\"none\"/>\n",
              "    <path d=\"M18.56 5.44l.94 2.06.94-2.06 2.06-.94-2.06-.94-.94-2.06-.94 2.06-2.06.94zm-11 1L8.5 8.5l.94-2.06 2.06-.94-2.06-.94L8.5 2.5l-.94 2.06-2.06.94zm10 10l.94 2.06.94-2.06 2.06-.94-2.06-.94-.94-2.06-.94 2.06-2.06.94z\"/><path d=\"M17.41 7.96l-1.37-1.37c-.4-.4-.92-.59-1.43-.59-.52 0-1.04.2-1.43.59L10.3 9.45l-7.72 7.72c-.78.78-.78 2.05 0 2.83L4 21.41c.39.39.9.59 1.41.59.51 0 1.02-.2 1.41-.59l7.78-7.78 2.81-2.81c.8-.78.8-2.07 0-2.86zM5.41 20L4 18.59l7.72-7.72 1.47 1.35L5.41 20z\"/>\n",
              "  </svg>\n",
              "      </button>\n",
              "      \n",
              "  <style>\n",
              "    .colab-df-container {\n",
              "      display:flex;\n",
              "      flex-wrap:wrap;\n",
              "      gap: 12px;\n",
              "    }\n",
              "\n",
              "    .colab-df-convert {\n",
              "      background-color: #E8F0FE;\n",
              "      border: none;\n",
              "      border-radius: 50%;\n",
              "      cursor: pointer;\n",
              "      display: none;\n",
              "      fill: #1967D2;\n",
              "      height: 32px;\n",
              "      padding: 0 0 0 0;\n",
              "      width: 32px;\n",
              "    }\n",
              "\n",
              "    .colab-df-convert:hover {\n",
              "      background-color: #E2EBFA;\n",
              "      box-shadow: 0px 1px 2px rgba(60, 64, 67, 0.3), 0px 1px 3px 1px rgba(60, 64, 67, 0.15);\n",
              "      fill: #174EA6;\n",
              "    }\n",
              "\n",
              "    [theme=dark] .colab-df-convert {\n",
              "      background-color: #3B4455;\n",
              "      fill: #D2E3FC;\n",
              "    }\n",
              "\n",
              "    [theme=dark] .colab-df-convert:hover {\n",
              "      background-color: #434B5C;\n",
              "      box-shadow: 0px 1px 3px 1px rgba(0, 0, 0, 0.15);\n",
              "      filter: drop-shadow(0px 1px 2px rgba(0, 0, 0, 0.3));\n",
              "      fill: #FFFFFF;\n",
              "    }\n",
              "  </style>\n",
              "\n",
              "      <script>\n",
              "        const buttonEl =\n",
              "          document.querySelector('#df-4c9fdd4c-8543-4b2e-b47d-48063f0de419 button.colab-df-convert');\n",
              "        buttonEl.style.display =\n",
              "          google.colab.kernel.accessAllowed ? 'block' : 'none';\n",
              "\n",
              "        async function convertToInteractive(key) {\n",
              "          const element = document.querySelector('#df-4c9fdd4c-8543-4b2e-b47d-48063f0de419');\n",
              "          const dataTable =\n",
              "            await google.colab.kernel.invokeFunction('convertToInteractive',\n",
              "                                                     [key], {});\n",
              "          if (!dataTable) return;\n",
              "\n",
              "          const docLinkHtml = 'Like what you see? Visit the ' +\n",
              "            '<a target=\"_blank\" href=https://colab.research.google.com/notebooks/data_table.ipynb>data table notebook</a>'\n",
              "            + ' to learn more about interactive tables.';\n",
              "          element.innerHTML = '';\n",
              "          dataTable['output_type'] = 'display_data';\n",
              "          await google.colab.output.renderOutput(dataTable, element);\n",
              "          const docLink = document.createElement('div');\n",
              "          docLink.innerHTML = docLinkHtml;\n",
              "          element.appendChild(docLink);\n",
              "        }\n",
              "      </script>\n",
              "    </div>\n",
              "  </div>\n",
              "  "
            ],
            "text/plain": [
              "                                                Text  Spam\n",
              "0  Subject: naturally irresistible your corporate...     1\n",
              "1  Subject: the stock trading gunslinger  fanny i...     1"
            ]
          },
          "execution_count": 94,
          "metadata": {},
          "output_type": "execute_result"
        }
      ],
      "source": [
        "spams.head(2)"
      ]
    },
    {
      "cell_type": "code",
      "execution_count": null,
      "metadata": {
        "id": "I2kXYFOGT0YZ"
      },
      "outputs": [],
      "source": [
        "string = \"Subject: naturally            irresistible your corporate identity lt is really hard to recollect a company : the market is full of suqgestions and the information isoverwhelminq ; but a good catchy logo , stylish statlonery and outstanding website will make the task much easier . we do not promise that havinq ordered a iogo your company will automaticaily become a world ieader : it isguite ciear that without good products , effective business organization and practicable aim it will be hotat nowadays market ; but we do promise that your marketing efforts will become much more effective . here is the list of clear benefits : creativeness : hand - made , original logos , specially done to reflect your distinctive company image . convenience : logo and stationery are provided in all formats ; easy - to - use content management system letsyou change your website content and even its structure . promptness : you will see logo drafts within three business days . affordability : your marketing break - through shouldn ' t make gaps in your budget . 100 % satisfaction guaranteed : we provide unlimited amount of changes with no extra fees for you to be surethat you will love the result of this collaboration . have a look at our portfolio _ _ _ _ _ _ _ _ _ _ _ _ _ _ _ _ _ _ _ _ _ _ _ _ _ _ _ _ _ _ _ _ _ _ _ _ _ _ _ _ _ _ _ _ _ _ _ _ _ _ _ _ not interested . . . _ _ _ _ _ _ _ _ _ _ _ _ _ _ _ _ _ _ _ _ _ _ _ _ _ _ _ _ _ _ _ _ _ _ _ _ _ _ _ _ _ _ _ _ _ _ _ _ _ _ _ _\""
      ]
    },
    {
      "cell_type": "code",
      "execution_count": null,
      "metadata": {
        "id": "f1PZ_HlXUKDb"
      },
      "outputs": [],
      "source": [
        "def cleanString(X:str):\n",
        "  X = X.replace('Subject: ', '')\n",
        "  X = re.sub(r'[^a-zA-Z.,\\'\\s]', '', X)\n",
        "  X = re.sub(r'\\s+', ' ', X.strip())\n",
        "  return X"
      ]
    },
    {
      "cell_type": "code",
      "execution_count": null,
      "metadata": {
        "colab": {
          "base_uri": "https://localhost:8080/",
          "height": 174
        },
        "id": "IpKyqhH4VCkp",
        "outputId": "2ace3e96-1dcf-40e5-e03e-ce4eff01c5e1"
      },
      "outputs": [
        {
          "data": {
            "application/vnd.google.colaboratory.intrinsic+json": {
              "type": "string"
            },
            "text/plain": [
              "\"naturally irresistible your corporate identity lt is really hard to recollect a company the market is full of suqgestions and the information isoverwhelminq but a good catchy logo , stylish statlonery and outstanding website will make the task much easier . we do not promise that havinq ordered a iogo your company will automaticaily become a world ieader it isguite ciear that without good products , effective business organization and practicable aim it will be hotat nowadays market but we do promise that your marketing efforts will become much more effective . here is the list of clear benefits creativeness hand made , original logos , specially done to reflect your distinctive company image . convenience logo and stationery are provided in all formats easy to use content management system letsyou change your website content and even its structure . promptness you will see logo drafts within three business days . affordability your marketing break through shouldn ' t make gaps in your budget . satisfaction guaranteed we provide unlimited amount of changes with no extra fees for you to be surethat you will love the result of this collaboration . have a look at our portfolio not interested . . .\""
            ]
          },
          "execution_count": 97,
          "metadata": {},
          "output_type": "execute_result"
        }
      ],
      "source": [
        "cleanString(string)"
      ]
    },
    {
      "cell_type": "code",
      "execution_count": null,
      "metadata": {
        "colab": {
          "base_uri": "https://localhost:8080/"
        },
        "id": "vfXZ4k18XGtS",
        "outputId": "eb5f546f-548e-4825-ff95-05ffbd111697"
      },
      "outputs": [
        {
          "name": "stderr",
          "output_type": "stream",
          "text": [
            "<ipython-input-98-d1db41506c02>:1: SettingWithCopyWarning: \n",
            "A value is trying to be set on a copy of a slice from a DataFrame.\n",
            "Try using .loc[row_indexer,col_indexer] = value instead\n",
            "\n",
            "See the caveats in the documentation: https://pandas.pydata.org/pandas-docs/stable/user_guide/indexing.html#returning-a-view-versus-a-copy\n",
            "  spams['Text'] = spams['Text'].apply(cleanString)\n"
          ]
        }
      ],
      "source": [
        "spams['Text'] = spams['Text'].apply(cleanString)"
      ]
    },
    {
      "cell_type": "markdown",
      "metadata": {
        "id": "PbYXO5xfYGT-"
      },
      "source": [
        "Loading another DataFrame"
      ]
    },
    {
      "cell_type": "code",
      "execution_count": null,
      "metadata": {
        "id": "UiKnbTP9YEIH"
      },
      "outputs": [],
      "source": [
        "df = pd.read_csv('SMSCollection.csv')"
      ]
    },
    {
      "cell_type": "code",
      "execution_count": null,
      "metadata": {
        "colab": {
          "base_uri": "https://localhost:8080/",
          "height": 112
        },
        "id": "Y7IkvUiXYPQ9",
        "outputId": "af0b67d1-37d8-47de-a942-1a269cdfe650"
      },
      "outputs": [
        {
          "data": {
            "text/html": [
              "\n",
              "  <div id=\"df-4a524052-8251-4494-a668-c6da9ab47117\">\n",
              "    <div class=\"colab-df-container\">\n",
              "      <div>\n",
              "<style scoped>\n",
              "    .dataframe tbody tr th:only-of-type {\n",
              "        vertical-align: middle;\n",
              "    }\n",
              "\n",
              "    .dataframe tbody tr th {\n",
              "        vertical-align: top;\n",
              "    }\n",
              "\n",
              "    .dataframe thead th {\n",
              "        text-align: right;\n",
              "    }\n",
              "</style>\n",
              "<table border=\"1\" class=\"dataframe\">\n",
              "  <thead>\n",
              "    <tr style=\"text-align: right;\">\n",
              "      <th></th>\n",
              "      <th>Class</th>\n",
              "      <th>sms</th>\n",
              "    </tr>\n",
              "  </thead>\n",
              "  <tbody>\n",
              "    <tr>\n",
              "      <th>0</th>\n",
              "      <td>ham</td>\n",
              "      <td>Go until jurong point, crazy.. Available only ...</td>\n",
              "    </tr>\n",
              "    <tr>\n",
              "      <th>1</th>\n",
              "      <td>ham</td>\n",
              "      <td>Ok lar... Joking wif u oni...</td>\n",
              "    </tr>\n",
              "  </tbody>\n",
              "</table>\n",
              "</div>\n",
              "      <button class=\"colab-df-convert\" onclick=\"convertToInteractive('df-4a524052-8251-4494-a668-c6da9ab47117')\"\n",
              "              title=\"Convert this dataframe to an interactive table.\"\n",
              "              style=\"display:none;\">\n",
              "        \n",
              "  <svg xmlns=\"http://www.w3.org/2000/svg\" height=\"24px\"viewBox=\"0 0 24 24\"\n",
              "       width=\"24px\">\n",
              "    <path d=\"M0 0h24v24H0V0z\" fill=\"none\"/>\n",
              "    <path d=\"M18.56 5.44l.94 2.06.94-2.06 2.06-.94-2.06-.94-.94-2.06-.94 2.06-2.06.94zm-11 1L8.5 8.5l.94-2.06 2.06-.94-2.06-.94L8.5 2.5l-.94 2.06-2.06.94zm10 10l.94 2.06.94-2.06 2.06-.94-2.06-.94-.94-2.06-.94 2.06-2.06.94z\"/><path d=\"M17.41 7.96l-1.37-1.37c-.4-.4-.92-.59-1.43-.59-.52 0-1.04.2-1.43.59L10.3 9.45l-7.72 7.72c-.78.78-.78 2.05 0 2.83L4 21.41c.39.39.9.59 1.41.59.51 0 1.02-.2 1.41-.59l7.78-7.78 2.81-2.81c.8-.78.8-2.07 0-2.86zM5.41 20L4 18.59l7.72-7.72 1.47 1.35L5.41 20z\"/>\n",
              "  </svg>\n",
              "      </button>\n",
              "      \n",
              "  <style>\n",
              "    .colab-df-container {\n",
              "      display:flex;\n",
              "      flex-wrap:wrap;\n",
              "      gap: 12px;\n",
              "    }\n",
              "\n",
              "    .colab-df-convert {\n",
              "      background-color: #E8F0FE;\n",
              "      border: none;\n",
              "      border-radius: 50%;\n",
              "      cursor: pointer;\n",
              "      display: none;\n",
              "      fill: #1967D2;\n",
              "      height: 32px;\n",
              "      padding: 0 0 0 0;\n",
              "      width: 32px;\n",
              "    }\n",
              "\n",
              "    .colab-df-convert:hover {\n",
              "      background-color: #E2EBFA;\n",
              "      box-shadow: 0px 1px 2px rgba(60, 64, 67, 0.3), 0px 1px 3px 1px rgba(60, 64, 67, 0.15);\n",
              "      fill: #174EA6;\n",
              "    }\n",
              "\n",
              "    [theme=dark] .colab-df-convert {\n",
              "      background-color: #3B4455;\n",
              "      fill: #D2E3FC;\n",
              "    }\n",
              "\n",
              "    [theme=dark] .colab-df-convert:hover {\n",
              "      background-color: #434B5C;\n",
              "      box-shadow: 0px 1px 3px 1px rgba(0, 0, 0, 0.15);\n",
              "      filter: drop-shadow(0px 1px 2px rgba(0, 0, 0, 0.3));\n",
              "      fill: #FFFFFF;\n",
              "    }\n",
              "  </style>\n",
              "\n",
              "      <script>\n",
              "        const buttonEl =\n",
              "          document.querySelector('#df-4a524052-8251-4494-a668-c6da9ab47117 button.colab-df-convert');\n",
              "        buttonEl.style.display =\n",
              "          google.colab.kernel.accessAllowed ? 'block' : 'none';\n",
              "\n",
              "        async function convertToInteractive(key) {\n",
              "          const element = document.querySelector('#df-4a524052-8251-4494-a668-c6da9ab47117');\n",
              "          const dataTable =\n",
              "            await google.colab.kernel.invokeFunction('convertToInteractive',\n",
              "                                                     [key], {});\n",
              "          if (!dataTable) return;\n",
              "\n",
              "          const docLinkHtml = 'Like what you see? Visit the ' +\n",
              "            '<a target=\"_blank\" href=https://colab.research.google.com/notebooks/data_table.ipynb>data table notebook</a>'\n",
              "            + ' to learn more about interactive tables.';\n",
              "          element.innerHTML = '';\n",
              "          dataTable['output_type'] = 'display_data';\n",
              "          await google.colab.output.renderOutput(dataTable, element);\n",
              "          const docLink = document.createElement('div');\n",
              "          docLink.innerHTML = docLinkHtml;\n",
              "          element.appendChild(docLink);\n",
              "        }\n",
              "      </script>\n",
              "    </div>\n",
              "  </div>\n",
              "  "
            ],
            "text/plain": [
              "  Class                                                sms\n",
              "0   ham  Go until jurong point, crazy.. Available only ...\n",
              "1   ham                      Ok lar... Joking wif u oni..."
            ]
          },
          "execution_count": 101,
          "metadata": {},
          "output_type": "execute_result"
        }
      ],
      "source": [
        "df.head(2)"
      ]
    },
    {
      "cell_type": "code",
      "execution_count": null,
      "metadata": {
        "colab": {
          "base_uri": "https://localhost:8080/"
        },
        "id": "t0LqQFiKZrE5",
        "outputId": "b3792cb4-f8fb-4e6c-aaf7-7bdb480e2ff0"
      },
      "outputs": [
        {
          "data": {
            "text/plain": [
              "ham     4825\n",
              "spam     747\n",
              "Name: Class, dtype: int64"
            ]
          },
          "execution_count": 102,
          "metadata": {},
          "output_type": "execute_result"
        }
      ],
      "source": [
        "df['Class'].value_counts()"
      ]
    },
    {
      "cell_type": "code",
      "execution_count": null,
      "metadata": {
        "colab": {
          "base_uri": "https://localhost:8080/"
        },
        "id": "txRy3VdvYQMh",
        "outputId": "63e1249c-7988-41e7-9a82-63ed51c7a8c3"
      },
      "outputs": [
        {
          "name": "stdout",
          "output_type": "stream",
          "text": [
            "Done\n"
          ]
        }
      ],
      "source": [
        "for x in spams['Text']:\n",
        "  df.loc[len(df)] = ['spam', x]\n",
        "\n",
        "print('Done')"
      ]
    },
    {
      "cell_type": "code",
      "execution_count": null,
      "metadata": {
        "colab": {
          "base_uri": "https://localhost:8080/"
        },
        "id": "3sokJfckY2OI",
        "outputId": "e58e1396-df62-4c0b-c354-66a54eef8af9"
      },
      "outputs": [
        {
          "data": {
            "text/plain": [
              "ham     4825\n",
              "spam    2115\n",
              "Name: Class, dtype: int64"
            ]
          },
          "execution_count": 104,
          "metadata": {},
          "output_type": "execute_result"
        }
      ],
      "source": [
        "df['Class'].value_counts()"
      ]
    },
    {
      "cell_type": "code",
      "execution_count": null,
      "metadata": {
        "id": "9JEfhyXLbF5Q"
      },
      "outputs": [],
      "source": [
        "df.to_csv('SpamHamDataset.csv', index=False)"
      ]
    },
    {
      "cell_type": "code",
      "execution_count": null,
      "metadata": {
        "id": "n4bz_6gHbbCf"
      },
      "outputs": [],
      "source": []
    },
    {
      "cell_type": "markdown",
      "metadata": {
        "id": "EplNURfj-dJX"
      },
      "source": [
        "## Preprocessing part-2"
      ]
    },
    {
      "cell_type": "code",
      "execution_count": 36,
      "metadata": {
        "id": "MANn_Nv6-fDI"
      },
      "outputs": [],
      "source": [
        "data = pd.read_csv('SpamHamDataset.csv')"
      ]
    },
    {
      "cell_type": "code",
      "execution_count": 37,
      "metadata": {
        "id": "sQ_JvUWG_Dav"
      },
      "outputs": [],
      "source": [
        "df = data.copy()"
      ]
    },
    {
      "cell_type": "code",
      "execution_count": 38,
      "metadata": {
        "colab": {
          "base_uri": "https://localhost:8080/",
          "height": 206
        },
        "id": "XoAg0PIZAMgo",
        "outputId": "093a1395-bb66-4704-ff48-832782bde238"
      },
      "outputs": [
        {
          "output_type": "execute_result",
          "data": {
            "text/plain": [
              "  Class                                                sms\n",
              "0   ham  Go until jurong point, crazy.. Available only ...\n",
              "1   ham                      Ok lar... Joking wif u oni...\n",
              "2  spam  Free entry in 2 a wkly comp to win FA Cup fina...\n",
              "3   ham  U dun say so early hor... U c already then say...\n",
              "4   ham  Nah I don't think he goes to usf, he lives aro..."
            ],
            "text/html": [
              "\n",
              "  <div id=\"df-fdfcaa07-dfd4-48e5-875a-329ad601a409\">\n",
              "    <div class=\"colab-df-container\">\n",
              "      <div>\n",
              "<style scoped>\n",
              "    .dataframe tbody tr th:only-of-type {\n",
              "        vertical-align: middle;\n",
              "    }\n",
              "\n",
              "    .dataframe tbody tr th {\n",
              "        vertical-align: top;\n",
              "    }\n",
              "\n",
              "    .dataframe thead th {\n",
              "        text-align: right;\n",
              "    }\n",
              "</style>\n",
              "<table border=\"1\" class=\"dataframe\">\n",
              "  <thead>\n",
              "    <tr style=\"text-align: right;\">\n",
              "      <th></th>\n",
              "      <th>Class</th>\n",
              "      <th>sms</th>\n",
              "    </tr>\n",
              "  </thead>\n",
              "  <tbody>\n",
              "    <tr>\n",
              "      <th>0</th>\n",
              "      <td>ham</td>\n",
              "      <td>Go until jurong point, crazy.. Available only ...</td>\n",
              "    </tr>\n",
              "    <tr>\n",
              "      <th>1</th>\n",
              "      <td>ham</td>\n",
              "      <td>Ok lar... Joking wif u oni...</td>\n",
              "    </tr>\n",
              "    <tr>\n",
              "      <th>2</th>\n",
              "      <td>spam</td>\n",
              "      <td>Free entry in 2 a wkly comp to win FA Cup fina...</td>\n",
              "    </tr>\n",
              "    <tr>\n",
              "      <th>3</th>\n",
              "      <td>ham</td>\n",
              "      <td>U dun say so early hor... U c already then say...</td>\n",
              "    </tr>\n",
              "    <tr>\n",
              "      <th>4</th>\n",
              "      <td>ham</td>\n",
              "      <td>Nah I don't think he goes to usf, he lives aro...</td>\n",
              "    </tr>\n",
              "  </tbody>\n",
              "</table>\n",
              "</div>\n",
              "      <button class=\"colab-df-convert\" onclick=\"convertToInteractive('df-fdfcaa07-dfd4-48e5-875a-329ad601a409')\"\n",
              "              title=\"Convert this dataframe to an interactive table.\"\n",
              "              style=\"display:none;\">\n",
              "        \n",
              "  <svg xmlns=\"http://www.w3.org/2000/svg\" height=\"24px\"viewBox=\"0 0 24 24\"\n",
              "       width=\"24px\">\n",
              "    <path d=\"M0 0h24v24H0V0z\" fill=\"none\"/>\n",
              "    <path d=\"M18.56 5.44l.94 2.06.94-2.06 2.06-.94-2.06-.94-.94-2.06-.94 2.06-2.06.94zm-11 1L8.5 8.5l.94-2.06 2.06-.94-2.06-.94L8.5 2.5l-.94 2.06-2.06.94zm10 10l.94 2.06.94-2.06 2.06-.94-2.06-.94-.94-2.06-.94 2.06-2.06.94z\"/><path d=\"M17.41 7.96l-1.37-1.37c-.4-.4-.92-.59-1.43-.59-.52 0-1.04.2-1.43.59L10.3 9.45l-7.72 7.72c-.78.78-.78 2.05 0 2.83L4 21.41c.39.39.9.59 1.41.59.51 0 1.02-.2 1.41-.59l7.78-7.78 2.81-2.81c.8-.78.8-2.07 0-2.86zM5.41 20L4 18.59l7.72-7.72 1.47 1.35L5.41 20z\"/>\n",
              "  </svg>\n",
              "      </button>\n",
              "      \n",
              "  <style>\n",
              "    .colab-df-container {\n",
              "      display:flex;\n",
              "      flex-wrap:wrap;\n",
              "      gap: 12px;\n",
              "    }\n",
              "\n",
              "    .colab-df-convert {\n",
              "      background-color: #E8F0FE;\n",
              "      border: none;\n",
              "      border-radius: 50%;\n",
              "      cursor: pointer;\n",
              "      display: none;\n",
              "      fill: #1967D2;\n",
              "      height: 32px;\n",
              "      padding: 0 0 0 0;\n",
              "      width: 32px;\n",
              "    }\n",
              "\n",
              "    .colab-df-convert:hover {\n",
              "      background-color: #E2EBFA;\n",
              "      box-shadow: 0px 1px 2px rgba(60, 64, 67, 0.3), 0px 1px 3px 1px rgba(60, 64, 67, 0.15);\n",
              "      fill: #174EA6;\n",
              "    }\n",
              "\n",
              "    [theme=dark] .colab-df-convert {\n",
              "      background-color: #3B4455;\n",
              "      fill: #D2E3FC;\n",
              "    }\n",
              "\n",
              "    [theme=dark] .colab-df-convert:hover {\n",
              "      background-color: #434B5C;\n",
              "      box-shadow: 0px 1px 3px 1px rgba(0, 0, 0, 0.15);\n",
              "      filter: drop-shadow(0px 1px 2px rgba(0, 0, 0, 0.3));\n",
              "      fill: #FFFFFF;\n",
              "    }\n",
              "  </style>\n",
              "\n",
              "      <script>\n",
              "        const buttonEl =\n",
              "          document.querySelector('#df-fdfcaa07-dfd4-48e5-875a-329ad601a409 button.colab-df-convert');\n",
              "        buttonEl.style.display =\n",
              "          google.colab.kernel.accessAllowed ? 'block' : 'none';\n",
              "\n",
              "        async function convertToInteractive(key) {\n",
              "          const element = document.querySelector('#df-fdfcaa07-dfd4-48e5-875a-329ad601a409');\n",
              "          const dataTable =\n",
              "            await google.colab.kernel.invokeFunction('convertToInteractive',\n",
              "                                                     [key], {});\n",
              "          if (!dataTable) return;\n",
              "\n",
              "          const docLinkHtml = 'Like what you see? Visit the ' +\n",
              "            '<a target=\"_blank\" href=https://colab.research.google.com/notebooks/data_table.ipynb>data table notebook</a>'\n",
              "            + ' to learn more about interactive tables.';\n",
              "          element.innerHTML = '';\n",
              "          dataTable['output_type'] = 'display_data';\n",
              "          await google.colab.output.renderOutput(dataTable, element);\n",
              "          const docLink = document.createElement('div');\n",
              "          docLink.innerHTML = docLinkHtml;\n",
              "          element.appendChild(docLink);\n",
              "        }\n",
              "      </script>\n",
              "    </div>\n",
              "  </div>\n",
              "  "
            ]
          },
          "metadata": {},
          "execution_count": 38
        }
      ],
      "source": [
        "df.head()"
      ]
    },
    {
      "cell_type": "code",
      "execution_count": 39,
      "metadata": {
        "id": "T_zX_uioAO5Y"
      },
      "outputs": [],
      "source": [
        "df.columns = ['Spam', 'Text']"
      ]
    },
    {
      "cell_type": "code",
      "execution_count": 40,
      "metadata": {
        "id": "W3jdC2iWAZem"
      },
      "outputs": [],
      "source": [
        "df['Spam'] = df['Spam'].apply(lambda x : 0 if x == 'ham' else 1)"
      ]
    },
    {
      "cell_type": "code",
      "execution_count": 41,
      "metadata": {
        "colab": {
          "base_uri": "https://localhost:8080/"
        },
        "id": "0QORRqDrCRfP",
        "outputId": "35186336-6b4e-434f-de0c-c85a5bd80484"
      },
      "outputs": [
        {
          "output_type": "execute_result",
          "data": {
            "text/plain": [
              "0    4825\n",
              "1    2115\n",
              "Name: Spam, dtype: int64"
            ]
          },
          "metadata": {},
          "execution_count": 41
        }
      ],
      "source": [
        "df['Spam'].value_counts()"
      ]
    },
    {
      "cell_type": "code",
      "execution_count": 42,
      "metadata": {
        "id": "ujrwAIm9E-sa"
      },
      "outputs": [],
      "source": [
        "spamsDf = df['Text'][df['Spam'] == 1].reset_index(drop=True)\n",
        "hamsDf = df['Text'][df['Spam'] == 0].reset_index(drop=True)"
      ]
    },
    {
      "cell_type": "code",
      "execution_count": 43,
      "metadata": {
        "colab": {
          "base_uri": "https://localhost:8080/"
        },
        "id": "BJU1ApQhFNiH",
        "outputId": "fc8fbed0-932c-49da-dd73-e6bca326db1b"
      },
      "outputs": [
        {
          "output_type": "execute_result",
          "data": {
            "text/plain": [
              "2110    are you ready to get it hello viagra is the me...\n",
              "2111    would you like a gas card don ' t let the curr...\n",
              "2112    immediate reply needed dear sir , i am dr jame...\n",
              "2113    wanna see me get fisted fist bang will show yo...\n",
              "2114    hot stock info drgv announces another press re...\n",
              "Name: Text, dtype: object"
            ]
          },
          "metadata": {},
          "execution_count": 43
        }
      ],
      "source": [
        "spamsDf.tail()"
      ]
    },
    {
      "cell_type": "code",
      "execution_count": 44,
      "metadata": {
        "id": "LXw7YM4XFcHG"
      },
      "outputs": [],
      "source": [
        "hamsDf.loc[len(hamsDf)] = 'Hey how are you dear ?'"
      ]
    },
    {
      "cell_type": "code",
      "execution_count": 45,
      "metadata": {
        "colab": {
          "base_uri": "https://localhost:8080/",
          "height": 35
        },
        "id": "LwcjA5QTF3St",
        "outputId": "be1915ca-babf-4003-f31a-1e50c68e4a07"
      },
      "outputs": [
        {
          "output_type": "execute_result",
          "data": {
            "text/plain": [
              "'Hey how are you dear ?'"
            ],
            "application/vnd.google.colaboratory.intrinsic+json": {
              "type": "string"
            }
          },
          "metadata": {},
          "execution_count": 45
        }
      ],
      "source": [
        "hamsDf.loc[len(hamsDf)-1]"
      ]
    },
    {
      "cell_type": "markdown",
      "metadata": {
        "id": "fipOZynVOKsq"
      },
      "source": [
        "### Lets handle this imbalanced text data with augmentation"
      ]
    },
    {
      "cell_type": "markdown",
      "metadata": {
        "id": "xIU8O5gvJGE0"
      },
      "source": [
        "We will augment spamsDf to balance the data"
      ]
    },
    {
      "cell_type": "code",
      "execution_count": 46,
      "metadata": {
        "id": "StQEcyCHH22N"
      },
      "outputs": [],
      "source": [
        "def augmentWord(text, n=2):\n",
        "  augmenter = naw.SynonymAug(aug_src = 'wordnet', aug_min=3, aug_max = 20, aug_p = 0.2)\n",
        "  aug_text = augmenter.augment(text, n)\n",
        "\n",
        "  return aug_text"
      ]
    },
    {
      "cell_type": "code",
      "execution_count": 47,
      "metadata": {
        "colab": {
          "base_uri": "https://localhost:8080/"
        },
        "id": "XrAVX7KwI-wE",
        "outputId": "aa1749f9-000e-45d6-d9a6-6ad1fb715732"
      },
      "outputs": [
        {
          "output_type": "execute_result",
          "data": {
            "text/plain": [
              "['Hey there be many illegal videos available for gratuitous',\n",
              " 'Hey there embody many illegal videos available for free',\n",
              " 'Hey there are many illegal tv available for free']"
            ]
          },
          "metadata": {},
          "execution_count": 47
        }
      ],
      "source": [
        "augmentWord(\"Hey there are many illegal videos available for free\",3)"
      ]
    },
    {
      "cell_type": "code",
      "execution_count": 48,
      "metadata": {
        "id": "XFBPlBFZYlEA"
      },
      "outputs": [],
      "source": [
        "import copy"
      ]
    },
    {
      "cell_type": "code",
      "execution_count": 49,
      "metadata": {
        "colab": {
          "base_uri": "https://localhost:8080/"
        },
        "id": "yl_q2vWkNam7",
        "outputId": "13ef2e97-77d9-4841-b3ff-22ddaaf8d23a"
      },
      "outputs": [
        {
          "output_type": "stream",
          "name": "stdout",
          "text": [
            "ERROR index :  1610\n",
            "Error index :  1826\n",
            "Total spam texts : 4743\n"
          ]
        }
      ],
      "source": [
        "count = 0\n",
        "spamlen = copy.copy(len(spamsDf))\n",
        "for i in range(spamlen-1):   # we can't write the len(spamsDf) directly...cause afterwards the spamsDf will be updated and the len into range() will keep changing\n",
        "  # This `if condition` part is for dividing longer texts into parts..\n",
        "  length = len(spamsDf[i].split(' '))       # count words in a sentence\n",
        "  if length > 200:\n",
        "    #\n",
        "    temp = spamsDf[i].split(\".\")\n",
        "    tlen = len(temp)\n",
        "    #\n",
        "    if length >= 2000:\n",
        "      try :\n",
        "        pct = 5      # 5% of temp variable's length\n",
        "        st = 0\n",
        "        for _ in range(7):\n",
        "          if pct <= 40 :\n",
        "            aug = augmentWord(\". \".join(temp[st : int(tlen*(pct/100))]),n=2)\n",
        "            spamsDf[len(spamsDf)] = aug[0]\n",
        "            spamsDf[len(spamsDf)] = aug[1]\n",
        "            st = int(tlen*(pct/100))\n",
        "            pct += 5\n",
        "      except Exception as e:\n",
        "        count += 1\n",
        "        print(\"Error index : \", i)\n",
        "    #\n",
        "    elif length > 500:\n",
        "      try :\n",
        "        pct = 9      # 9% of temp variable's length\n",
        "        st = 0\n",
        "        for j in range(10):\n",
        "          if pct <= 100 :\n",
        "            aug = augmentWord(\". \".join(temp[st : int(tlen*(pct/100))]),n=3)\n",
        "            spamsDf[len(spamsDf)] = aug[0]\n",
        "            spamsDf[len(spamsDf)] = aug[1]\n",
        "            spamsDf[len(spamsDf)] = aug[2]\n",
        "            st = int(tlen*(pct/100))\n",
        "            pct += 10\n",
        "      except Exception as e:\n",
        "        count += 1\n",
        "        print(\"ERROR index : \", i)\n",
        "    #\n",
        "    else:\n",
        "      try :\n",
        "        pct = 30      # 30% of temp variable's length\n",
        "        st = 0\n",
        "        for k in range(3):\n",
        "          if pct <= 99 :\n",
        "            aug = augmentWord(\". \".join(temp[st : int(tlen*(pct/100))]), n=3)\n",
        "            spamsDf[len(spamsDf)] = aug[0]\n",
        "            spamsDf[len(spamsDf)] = aug[1]\n",
        "            spamsDf[len(spamsDf)] = aug[2]\n",
        "            # spamsDf[len(spamsDf)] = aug[3]\n",
        "            st = int(tlen*(pct/100))\n",
        "            pct += 30\n",
        "      except Exception as e:\n",
        "        count += 1\n",
        "        print(\"Error index : \", i)\n",
        "    #\n",
        "    spamsDf.drop(i, inplace = True)\n",
        "\n",
        "  else:\n",
        "    aug = augmentWord(spamsDf[i], n = 4)\n",
        "    spamsDf[len(spamsDf)] = aug[0]\n",
        "    spamsDf[len(spamsDf)] = aug[1]\n",
        "    spamsDf[len(spamsDf)] = aug[2]\n",
        "    spamsDf[len(spamsDf)] = aug[3]\n",
        "\n",
        "spamsDf.reset_index(drop = True, inplace = True)\n",
        "del(i, j, _, temp, aug)    # to save the ram memory\n",
        "print(r'Total spam texts : {}'.format(len(spamsDf)))"
      ]
    },
    {
      "cell_type": "code",
      "execution_count": 50,
      "metadata": {
        "colab": {
          "base_uri": "https://localhost:8080/"
        },
        "id": "tquoUxwrLeO0",
        "outputId": "0cfc948f-f57f-4504-b64f-4b5dc0f991a1"
      },
      "outputs": [
        {
          "output_type": "execute_result",
          "data": {
            "text/plain": [
              "-83"
            ]
          },
          "metadata": {},
          "execution_count": 50
        }
      ],
      "source": [
        "len(spamsDf) - len(hamsDf)"
      ]
    },
    {
      "cell_type": "markdown",
      "metadata": {
        "id": "50boR0atoTGY"
      },
      "source": [
        "The output says DataSet is almost balanced"
      ]
    },
    {
      "cell_type": "code",
      "execution_count": 51,
      "metadata": {
        "colab": {
          "base_uri": "https://localhost:8080/"
        },
        "id": "8DUrDqEjQGCK",
        "outputId": "219ddc20-1f96-4036-fa80-ededd8090163"
      },
      "outputs": [
        {
          "output_type": "stream",
          "name": "stdout",
          "text": [
            "10\n"
          ]
        }
      ],
      "source": [
        "# removing sentences that contain 200+ word\n",
        "count = 0\n",
        "for x,y in enumerate(spamsDf):\n",
        "# for y in spamsDf:\n",
        "  if len(y.split(' ')) > 200:\n",
        "    spamsDf.drop(x, inplace = True)\n",
        "    count+=1\n",
        "print(count)"
      ]
    },
    {
      "cell_type": "code",
      "execution_count": 52,
      "metadata": {
        "id": "Up9vnXHNGxHf"
      },
      "outputs": [],
      "source": [
        "# count = 0\n",
        "# xx = []\n",
        "# for x,y in enumerate(spamsDf):\n",
        "# # for y in spamsDf:\n",
        "#   if len(y.split(' ')) > 200:\n",
        "#     count+=1\n",
        "#     xx.append(x)\n",
        "# print(xx)\n",
        "# print(count)"
      ]
    },
    {
      "cell_type": "markdown",
      "metadata": {
        "id": "KY01gdUtM08c"
      },
      "source": [
        "we will concate these series together. to make a new balanced dataset"
      ]
    },
    {
      "cell_type": "code",
      "execution_count": 53,
      "metadata": {
        "id": "0QMR_06AMuPz"
      },
      "outputs": [],
      "source": [
        "hamLabel = np.zeros((len(hamsDf),))\n",
        "spamLabel = np.ones((len(spamsDf),))"
      ]
    },
    {
      "cell_type": "code",
      "execution_count": 54,
      "metadata": {
        "colab": {
          "base_uri": "https://localhost:8080/"
        },
        "id": "i0iXaqjpN0gr",
        "outputId": "4be649a5-a7a3-4ffe-899e-d85ca1e61005"
      },
      "outputs": [
        {
          "output_type": "execute_result",
          "data": {
            "text/plain": [
              "4826"
            ]
          },
          "metadata": {},
          "execution_count": 54
        }
      ],
      "source": [
        "len(hamLabel)"
      ]
    },
    {
      "cell_type": "code",
      "execution_count": 55,
      "metadata": {
        "colab": {
          "base_uri": "https://localhost:8080/"
        },
        "id": "bTCrRABQN1uT",
        "outputId": "9cc367ac-fe22-4b93-8547-831782b8a494"
      },
      "outputs": [
        {
          "output_type": "execute_result",
          "data": {
            "text/plain": [
              "9559"
            ]
          },
          "metadata": {},
          "execution_count": 55
        }
      ],
      "source": [
        "labels = np.concatenate((hamLabel, spamLabel), axis = 0)\n",
        "len(labels)"
      ]
    },
    {
      "cell_type": "code",
      "execution_count": 64,
      "metadata": {
        "colab": {
          "base_uri": "https://localhost:8080/"
        },
        "id": "YSLwubgYPgmi",
        "outputId": "01b7cf01-6e2b-4ec4-eced-9b00336c2ba8"
      },
      "outputs": [
        {
          "output_type": "execute_result",
          "data": {
            "text/plain": [
              "9559"
            ]
          },
          "metadata": {},
          "execution_count": 64
        }
      ],
      "source": [
        "texts = pd.concat([hamsDf, spamsDf], ignore_index=True)\n",
        "len(texts)"
      ]
    },
    {
      "cell_type": "code",
      "execution_count": 56,
      "metadata": {
        "id": "chD8VG1ymZV_"
      },
      "outputs": [],
      "source": []
    },
    {
      "cell_type": "markdown",
      "metadata": {
        "id": "9NWQ2zoxQVKj"
      },
      "source": [
        "### Text cleaning"
      ]
    },
    {
      "cell_type": "code",
      "execution_count": 66,
      "metadata": {
        "id": "QNOXlxcfTp_q"
      },
      "outputs": [],
      "source": [
        "stop_words = ['a', 'an', 'the', 'is', 'am', 'are', 'was', 'were', 'have', 'has', 'had', 'might', 'must','and', 'or', 'either', 'neither']"
      ]
    },
    {
      "cell_type": "code",
      "execution_count": 67,
      "metadata": {
        "id": "g6jroBSKQXQ7"
      },
      "outputs": [],
      "source": [
        "def clean_text_tokenize(X):\n",
        "  lem = WordNetLemmatizer()\n",
        "  X = contractions.fix(X.lower())\n",
        "  X = re.sub(r'[^a-zA-Z0-9\\s]', '', X)\n",
        "  X = word_tokenize(X)\n",
        "  X = [lem.lemmatize(word) for word in X if word not in stop_words]\n",
        "  return X\n",
        "\n"
      ]
    },
    {
      "cell_type": "code",
      "execution_count": 68,
      "metadata": {
        "colab": {
          "base_uri": "https://localhost:8080/"
        },
        "id": "LEQOnR6PVH8C",
        "outputId": "3b5e1949-cb74-42fb-a700-71a83bbd105f"
      },
      "outputs": [
        {
          "output_type": "execute_result",
          "data": {
            "text/plain": [
              "['you', 'really', 'jerking', 'good', '69', 'knowledge']"
            ]
          },
          "metadata": {},
          "execution_count": 68
        }
      ],
      "source": [
        "clean_text_tokenize(\"You're a really jerking ?, and have good 69 knowledges.\")"
      ]
    },
    {
      "cell_type": "code",
      "execution_count": 69,
      "metadata": {
        "colab": {
          "base_uri": "https://localhost:8080/"
        },
        "id": "aa72aqPAaPhv",
        "outputId": "9110e6c3-b678-406e-8c59-ab5852373a01"
      },
      "outputs": [
        {
          "output_type": "execute_result",
          "data": {
            "text/plain": [
              "0    Go until jurong point, crazy.. Available only ...\n",
              "1                        Ok lar... Joking wif u oni...\n",
              "Name: Text, dtype: object"
            ]
          },
          "metadata": {},
          "execution_count": 69
        }
      ],
      "source": [
        "texts.head(2)"
      ]
    },
    {
      "cell_type": "code",
      "execution_count": 70,
      "metadata": {
        "colab": {
          "base_uri": "https://localhost:8080/"
        },
        "id": "ThCi4TPmXJ44",
        "outputId": "dbdba078-99b4-4d2a-a843-cf649aa8502b"
      },
      "outputs": [
        {
          "output_type": "execute_result",
          "data": {
            "text/plain": [
              "0    [go, until, jurong, point, crazy, available, o...\n",
              "1                     [ok, lar, joking, wif, you, oni]\n",
              "Name: Text, dtype: object"
            ]
          },
          "metadata": {},
          "execution_count": 70
        }
      ],
      "source": [
        "texts = texts.apply(clean_text_tokenize)\n",
        "texts.head(2)"
      ]
    },
    {
      "cell_type": "code",
      "source": [],
      "metadata": {
        "id": "r4HOpzDgqVQ8"
      },
      "execution_count": 70,
      "outputs": []
    },
    {
      "cell_type": "code",
      "source": [],
      "metadata": {
        "id": "PBGuIV2T0hqP"
      },
      "execution_count": 70,
      "outputs": []
    },
    {
      "cell_type": "markdown",
      "source": [
        "## Word2Vec Embedding"
      ],
      "metadata": {
        "id": "cZt-scjr0jPP"
      }
    },
    {
      "cell_type": "markdown",
      "metadata": {
        "id": "iwswqRqSaj0Y"
      },
      "source": [
        "We will vectorize these tokenz using Word2Vec"
      ]
    },
    {
      "cell_type": "code",
      "execution_count": null,
      "metadata": {
        "id": "_XpPbssiaq1K"
      },
      "outputs": [],
      "source": [
        "w2v = gensim.models.Word2Vec(window=3, min_count = 1, vector_size=64)\n",
        "w2v.build_vocab(texts)"
      ]
    },
    {
      "cell_type": "code",
      "execution_count": null,
      "metadata": {
        "id": "uQYgUm12do6_"
      },
      "outputs": [],
      "source": [
        "w2v.corpus_count"
      ]
    },
    {
      "cell_type": "code",
      "execution_count": null,
      "metadata": {
        "id": "aJgAlsD1cUM3"
      },
      "outputs": [],
      "source": [
        "w2v.train(texts, epochs = 10, total_examples= w2v.corpus_count)"
      ]
    },
    {
      "cell_type": "code",
      "execution_count": null,
      "metadata": {
        "id": "S-8IajWCel_3"
      },
      "outputs": [],
      "source": [
        "w2v.wv.most_similar('sex')"
      ]
    },
    {
      "cell_type": "code",
      "execution_count": null,
      "metadata": {
        "id": "ejDcDZ1YxvFp"
      },
      "outputs": [],
      "source": [
        "# w2v.save('wordVecModel.bin')"
      ]
    },
    {
      "cell_type": "code",
      "execution_count": null,
      "metadata": {
        "id": "EIDNCYkqy2_6"
      },
      "outputs": [],
      "source": [
        "# del(w2v)"
      ]
    },
    {
      "cell_type": "code",
      "execution_count": 12,
      "metadata": {
        "id": "bIQnPWNJyLOb"
      },
      "outputs": [],
      "source": [
        "model_wv = gensim.models.Word2Vec.load('wordVecModel.bin')"
      ]
    },
    {
      "cell_type": "code",
      "source": [],
      "metadata": {
        "id": "_RGpT-w0eB6h"
      },
      "execution_count": null,
      "outputs": []
    },
    {
      "cell_type": "code",
      "source": [],
      "metadata": {
        "id": "-s7AA2egeB3J"
      },
      "execution_count": null,
      "outputs": []
    },
    {
      "cell_type": "markdown",
      "metadata": {
        "id": "yGFPSOWxfo7b"
      },
      "source": [
        "We are done embedding. We will assign every word with its corresponding vector (for every sentence)"
      ]
    },
    {
      "cell_type": "code",
      "execution_count": null,
      "metadata": {
        "colab": {
          "base_uri": "https://localhost:8080/"
        },
        "id": "vOfLXxL2j3tz",
        "outputId": "9d19b06f-4ac6-4c6c-b974-318467797a93"
      },
      "outputs": [
        {
          "output_type": "execute_result",
          "data": {
            "text/plain": [
              "0    [go, until, jurong, point, crazy, available, o...\n",
              "1                     [ok, lar, joking, wif, you, oni]\n",
              "Name: Text, dtype: object"
            ]
          },
          "metadata": {},
          "execution_count": 265
        }
      ],
      "source": [
        "texts.head(2)"
      ]
    },
    {
      "cell_type": "markdown",
      "source": [
        "## GRU - USING TENSORFLOW EMBEDDING"
      ],
      "metadata": {
        "id": "2cO1l2nNdxj-"
      }
    },
    {
      "cell_type": "code",
      "execution_count": 135,
      "metadata": {
        "id": "aDHH15QWqCs7",
        "colab": {
          "base_uri": "https://localhost:8080/"
        },
        "outputId": "fd5682c3-2a3c-43a9-b1d7-96449192cfea"
      },
      "outputs": [
        {
          "output_type": "stream",
          "name": "stdout",
          "text": [
            "179\n"
          ]
        }
      ],
      "source": [
        "## we need padded sequence of these sentence vectors (as there are not all equal number of words in each sentence )\n",
        "wvDict = model_wv.wv.key_to_index\n",
        "def wordIndexing(X:list):\n",
        "  X = [wvDict[word] for word in X if word in wvDict.keys()]\n",
        "  return X\n",
        "\n",
        "\n",
        "texts_vectored = texts.apply(wordIndexing)\n",
        "max_len = max([len(sent) for sent in texts_vectored])\n",
        "print(max_len)\n",
        "texts_vectored_padded = tf.keras.preprocessing.sequence.pad_sequences(texts_vectored, maxlen= max_len, padding = 'post')"
      ]
    },
    {
      "cell_type": "code",
      "source": [],
      "metadata": {
        "id": "7OBFbWlufG5i"
      },
      "execution_count": null,
      "outputs": []
    },
    {
      "cell_type": "markdown",
      "metadata": {
        "id": "vBO0h4JAqDh8"
      },
      "source": [
        "#### We will train the model now"
      ]
    },
    {
      "cell_type": "code",
      "execution_count": 137,
      "metadata": {
        "id": "qS7EHLkfqGhJ"
      },
      "outputs": [],
      "source": [
        "from sklearn.model_selection import train_test_split"
      ]
    },
    {
      "cell_type": "code",
      "execution_count": 138,
      "metadata": {
        "id": "AA2ItX4uq3Sh"
      },
      "outputs": [],
      "source": [
        "xtrain, xtest, ytrain, ytest = train_test_split(texts_vectored_padded, labels, test_size=0.2, random_state = 42, stratify=labels)"
      ]
    },
    {
      "cell_type": "code",
      "execution_count": 139,
      "metadata": {
        "id": "0SDvnmz5K3vW"
      },
      "outputs": [],
      "source": [
        "# del(texts_vectored, texts_vectored_padded) # ram saving"
      ]
    },
    {
      "cell_type": "code",
      "execution_count": 140,
      "metadata": {
        "colab": {
          "base_uri": "https://localhost:8080/"
        },
        "id": "42hfTQBtrrux",
        "outputId": "ef669f3c-3ea3-4630-9d45-a2332b343505"
      },
      "outputs": [
        {
          "output_type": "execute_result",
          "data": {
            "text/plain": [
              "(7647, 179)"
            ]
          },
          "metadata": {},
          "execution_count": 140
        }
      ],
      "source": [
        "xtrain.shape"
      ]
    },
    {
      "cell_type": "code",
      "execution_count": 141,
      "metadata": {
        "colab": {
          "base_uri": "https://localhost:8080/"
        },
        "id": "4oHMkAyart1B",
        "outputId": "86fa8768-6107-41cc-a5ee-09af2bbb929f"
      },
      "outputs": [
        {
          "output_type": "execute_result",
          "data": {
            "text/plain": [
              "(1912, 179)"
            ]
          },
          "metadata": {},
          "execution_count": 141
        }
      ],
      "source": [
        "xtest.shape"
      ]
    },
    {
      "cell_type": "code",
      "execution_count": null,
      "metadata": {
        "id": "UCpLHGJPr0MT"
      },
      "outputs": [],
      "source": [
        "# GRU MODEL HERE"
      ]
    },
    {
      "cell_type": "code",
      "source": [
        "early_stopping = EarlyStopping(monitor='loss', patience=3)"
      ],
      "metadata": {
        "id": "Lk7P3kaC_g_l"
      },
      "execution_count": 142,
      "outputs": []
    },
    {
      "cell_type": "code",
      "execution_count": 144,
      "metadata": {
        "id": "pqoJwQlt4liY",
        "colab": {
          "base_uri": "https://localhost:8080/"
        },
        "outputId": "ad1aed52-5f81-44b5-d1e1-cbc960735e91"
      },
      "outputs": [
        {
          "output_type": "stream",
          "name": "stdout",
          "text": [
            "Epoch 1/100\n",
            "239/239 [==============================] - 46s 172ms/step - loss: 0.1957 - Accuracy: 0.9116\n",
            "Epoch 2/100\n",
            "239/239 [==============================] - 18s 76ms/step - loss: 0.0198 - Accuracy: 0.9940\n",
            "Epoch 3/100\n",
            "239/239 [==============================] - 10s 43ms/step - loss: 0.0046 - Accuracy: 0.9990\n",
            "Epoch 4/100\n",
            "239/239 [==============================] - 7s 30ms/step - loss: 0.0017 - Accuracy: 0.9999\n",
            "Epoch 5/100\n",
            "239/239 [==============================] - 6s 26ms/step - loss: 0.0284 - Accuracy: 0.9969\n",
            "Epoch 6/100\n",
            "239/239 [==============================] - 6s 23ms/step - loss: 0.0013 - Accuracy: 0.9999\n",
            "Epoch 7/100\n",
            "239/239 [==============================] - 7s 28ms/step - loss: 7.4189e-04 - Accuracy: 0.9999\n",
            "Epoch 8/100\n",
            "239/239 [==============================] - 6s 27ms/step - loss: 3.8282e-04 - Accuracy: 0.9999\n",
            "Epoch 9/100\n",
            "239/239 [==============================] - 5s 22ms/step - loss: 2.3863e-04 - Accuracy: 1.0000\n",
            "Epoch 10/100\n",
            "239/239 [==============================] - 5s 21ms/step - loss: 2.1135e-04 - Accuracy: 1.0000\n",
            "Epoch 11/100\n",
            "239/239 [==============================] - 5s 22ms/step - loss: 1.2709e-04 - Accuracy: 1.0000\n",
            "Epoch 12/100\n",
            "239/239 [==============================] - 4s 17ms/step - loss: 0.0239 - Accuracy: 0.9924\n",
            "Epoch 13/100\n",
            "239/239 [==============================] - 4s 15ms/step - loss: 0.0058 - Accuracy: 0.9982\n",
            "Epoch 14/100\n",
            "239/239 [==============================] - 4s 17ms/step - loss: 9.2588e-04 - Accuracy: 0.9999\n"
          ]
        },
        {
          "output_type": "execute_result",
          "data": {
            "text/plain": [
              "<keras.callbacks.History at 0x7f9bf48c6200>"
            ]
          },
          "metadata": {},
          "execution_count": 144
        }
      ],
      "source": [
        "model = tf.keras.models.Sequential([\n",
        "    tf.keras.layers.Embedding(len(wvDict.keys()), 64, input_length=max_len),\n",
        "    tf.keras.layers.Bidirectional(tf.keras.layers.GRU(64)),\n",
        "    tf.keras.layers.Dropout(0.5),\n",
        "    tf.keras.layers.Dense(1, activation = 'sigmoid')\n",
        "])\n",
        "\n",
        "model.compile(optimizer = 'adam', loss = 'binary_crossentropy', metrics = 'Accuracy')\n",
        "# but 'adadelta' optimizer is best for text classification\n",
        "model.fit(xtrain, ytrain, epochs = 100, batch_size=32, callbacks=early_stopping)"
      ]
    },
    {
      "cell_type": "code",
      "execution_count": 145,
      "metadata": {
        "colab": {
          "base_uri": "https://localhost:8080/"
        },
        "id": "NXxut83DOXCI",
        "outputId": "e9124ff8-fc59-44de-d344-2ce87a864a44"
      },
      "outputs": [
        {
          "output_type": "stream",
          "name": "stdout",
          "text": [
            "60/60 [==============================] - 1s 7ms/step\n"
          ]
        }
      ],
      "source": [
        "ypred = model.predict(xtest)"
      ]
    },
    {
      "cell_type": "code",
      "execution_count": 146,
      "metadata": {
        "id": "FMUSDDDjO7uX"
      },
      "outputs": [],
      "source": [
        "ypred = np.round(ypred)"
      ]
    },
    {
      "cell_type": "code",
      "execution_count": 147,
      "metadata": {
        "id": "5xCeW3_lOW--",
        "colab": {
          "base_uri": "https://localhost:8080/"
        },
        "outputId": "60478f88-f148-4156-9153-b3af51eb0ea5"
      },
      "outputs": [
        {
          "output_type": "stream",
          "name": "stdout",
          "text": [
            "              precision    recall  f1-score   support\n",
            "\n",
            "         0.0       0.99      0.99      0.99       965\n",
            "         1.0       0.99      0.99      0.99       947\n",
            "\n",
            "    accuracy                           0.99      1912\n",
            "   macro avg       0.99      0.99      0.99      1912\n",
            "weighted avg       0.99      0.99      0.99      1912\n",
            "\n"
          ]
        }
      ],
      "source": [
        "from sklearn.metrics import classification_report\n",
        "print(classification_report(ytest, ypred))"
      ]
    },
    {
      "cell_type": "code",
      "execution_count": null,
      "metadata": {
        "id": "G-e_791fOxPs"
      },
      "outputs": [],
      "source": [
        "# model.save('SpamDetectModel.h5')"
      ]
    },
    {
      "cell_type": "code",
      "source": [
        "# Pipeline system\n",
        "print(\"Build config :\\n\", model.get_build_config()['input_shape'])\n",
        "maxlen = model.get_build_config()['input_shape'][1]"
      ],
      "metadata": {
        "colab": {
          "base_uri": "https://localhost:8080/"
        },
        "id": "-7NEskFx8FWC",
        "outputId": "e226c966-f50e-45fd-d6af-e2e54829ce87"
      },
      "execution_count": 148,
      "outputs": [
        {
          "output_type": "stream",
          "name": "stdout",
          "text": [
            "Build config :\n",
            " (None, 179)\n"
          ]
        }
      ]
    },
    {
      "cell_type": "code",
      "source": [
        "def clean_text_tokenize(X:str) -> list:\n",
        "  \"\"\"\n",
        "  Return:\n",
        "  ------\n",
        "  ``1D array of cleaned text with tokenization``\n",
        "  >>> ['sourav', 'busy', 'now]\n",
        "  \"\"\"\n",
        "  stop_words = ['a', 'an', 'the', 'is', 'am', 'are', 'was', 'were', 'have', 'has', 'had', 'might', 'must','and', 'or', 'either', 'neither', 'what', 'when','how', 'where', 'which']\n",
        "  lem = WordNetLemmatizer()\n",
        "  X = contractions.fix(X.lower())\n",
        "  X = re.sub(r'[^a-zA-Z0-9\\s]', '', X)\n",
        "  X = word_tokenize(X)\n",
        "  X = [lem.lemmatize(word) for word in X if word not in stop_words]\n",
        "  return X\n",
        "\n",
        "\n",
        "def testSpam(X:str):\n",
        "  X = clean_text_tokenize(X)\n",
        "  if len(X) > maxlen:\n",
        "    X = X[0:maxlen]\n",
        "  # vectorize input text and padding\n",
        "  corpus = model_wv.wv.key_to_index\n",
        "  # X = [model_wv.wv[word] for word in X if word in corpus]\n",
        "  X = [corpus[word] for word in X if word in corpus.keys()]\n",
        "  # X = keras.preprocessing.sequence.pad_sequences([X], maxlen = maxlen, padding = 'post')\n",
        "  X = keras.preprocessing.sequence.pad_sequences([X], maxlen= maxlen, padding = 'post')\n",
        "  X = model.predict(X)\n",
        "  # return np.round(X)\n",
        "  return X\n"
      ],
      "metadata": {
        "id": "Amkwem1xVRTp"
      },
      "execution_count": 149,
      "outputs": []
    },
    {
      "cell_type": "code",
      "source": [
        "df[df['Spam']==1].sample(5)"
      ],
      "metadata": {
        "id": "lMdeZ7s9luWc"
      },
      "execution_count": null,
      "outputs": []
    },
    {
      "cell_type": "code",
      "source": [
        "testSpam(\"Send SMS SAX to 7789 to claim your prize money\")*100"
      ],
      "metadata": {
        "colab": {
          "base_uri": "https://localhost:8080/"
        },
        "id": "2DxZk6iDV6Rx",
        "outputId": "bb2bd480-e3bf-4a80-fc58-3bf53025634a"
      },
      "execution_count": 153,
      "outputs": [
        {
          "output_type": "stream",
          "name": "stdout",
          "text": [
            "1/1 [==============================] - 0s 22ms/step\n"
          ]
        },
        {
          "output_type": "execute_result",
          "data": {
            "text/plain": [
              "array([[99.89655]], dtype=float32)"
            ]
          },
          "metadata": {},
          "execution_count": 153
        }
      ]
    },
    {
      "cell_type": "code",
      "source": [
        "testSpam(\"Congratulations!! You have won the VEGAS SINS LOTTERY and have received $5000 prize. To receive the money contact us\")*100"
      ],
      "metadata": {
        "colab": {
          "base_uri": "https://localhost:8080/"
        },
        "id": "fxodRVVkm8oR",
        "outputId": "fccb8fd1-7631-4fdb-97ef-8baa6da02af8"
      },
      "execution_count": 152,
      "outputs": [
        {
          "output_type": "stream",
          "name": "stdout",
          "text": [
            "1/1 [==============================] - 0s 31ms/step\n"
          ]
        },
        {
          "output_type": "execute_result",
          "data": {
            "text/plain": [
              "array([[99.997734]], dtype=float32)"
            ]
          },
          "metadata": {},
          "execution_count": 152
        }
      ]
    },
    {
      "cell_type": "code",
      "source": [
        "testSpam(\"Change your brand names to generics , from overexpenditures to great savings with a tight budget \")*100"
      ],
      "metadata": {
        "id": "YqLcX-eOnRpT",
        "colab": {
          "base_uri": "https://localhost:8080/"
        },
        "outputId": "290aa995-5ed0-4cb9-cddc-0a295b879d10"
      },
      "execution_count": 158,
      "outputs": [
        {
          "output_type": "stream",
          "name": "stdout",
          "text": [
            "1/1 [==============================] - 0s 34ms/step\n"
          ]
        },
        {
          "output_type": "execute_result",
          "data": {
            "text/plain": [
              "array([[61.17826]], dtype=float32)"
            ]
          },
          "metadata": {},
          "execution_count": 158
        }
      ]
    },
    {
      "cell_type": "code",
      "source": [
        "testSpam(\"Hey, actually my ex awants to come back nut i am confused bout getting back. I will need some money\")*100"
      ],
      "metadata": {
        "colab": {
          "base_uri": "https://localhost:8080/"
        },
        "id": "hByfzOQgDJZ9",
        "outputId": "b761e8ed-678f-4f11-a22e-17a94b1b2fce"
      },
      "execution_count": 163,
      "outputs": [
        {
          "output_type": "stream",
          "name": "stdout",
          "text": [
            "1/1 [==============================] - 0s 40ms/step\n"
          ]
        },
        {
          "output_type": "execute_result",
          "data": {
            "text/plain": [
              "array([[0.00883873]], dtype=float32)"
            ]
          },
          "metadata": {},
          "execution_count": 163
        }
      ]
    },
    {
      "cell_type": "code",
      "source": [
        "model.save('3_SpamDetectModel.h5')"
      ],
      "metadata": {
        "id": "JGbwFb0PnqLp"
      },
      "execution_count": 160,
      "outputs": []
    },
    {
      "cell_type": "code",
      "source": [],
      "metadata": {
        "id": "VhEJesbyn34a"
      },
      "execution_count": null,
      "outputs": []
    },
    {
      "cell_type": "markdown",
      "source": [
        "## GRU - USING Word2Vec embedding"
      ],
      "metadata": {
        "id": "Vuk0Cz2YsPYs"
      }
    },
    {
      "cell_type": "code",
      "source": [
        "def wordVectoring(X:list):\n",
        "  try:\n",
        "    tmp = []\n",
        "    if len(X) != 0:\n",
        "      for word in X:\n",
        "        if word in model_wv.wv.index_to_key:\n",
        "          tmp.append(model_wv.wv[word])\n",
        "      return np.stack(tmp)\n",
        "    else :\n",
        "      return np.stack([[0]*64])\n",
        "  except Exception :\n",
        "    print(Exception)\n",
        "\n"
      ],
      "metadata": {
        "id": "8JMJIDt8sUGI"
      },
      "execution_count": 71,
      "outputs": []
    },
    {
      "cell_type": "code",
      "source": [
        "texts_vectored = texts.apply(wordVectoring)"
      ],
      "metadata": {
        "id": "UORdTD2ftGAh"
      },
      "execution_count": 72,
      "outputs": []
    },
    {
      "cell_type": "code",
      "source": [
        "maxlen = max([len(sent) for sent in texts_vectored])\n",
        "print(\"Max length : \" ,maxlen)\n",
        "\n",
        "inShape = (maxlen, model_wv.vector_size)\n",
        "print(\"Input shape : \" , inShape)"
      ],
      "metadata": {
        "colab": {
          "base_uri": "https://localhost:8080/"
        },
        "id": "GRHFp5VXsu1S",
        "outputId": "f5364f6c-c339-4c60-d96d-d15889c32a22"
      },
      "execution_count": 73,
      "outputs": [
        {
          "output_type": "stream",
          "name": "stdout",
          "text": [
            "Max length :  179\n",
            "Input shape :  (179, 64)\n"
          ]
        }
      ]
    },
    {
      "cell_type": "code",
      "source": [
        "def do_pad_sequence(X:np.ndarray, maxlen:int, fillvalue:int = 0):\n",
        "  return np.array([np.concatenate([sent, np.full(((maxlen - sent.shape[0]), sent.shape[1]), fillvalue)]) for sent in X])\n"
      ],
      "metadata": {
        "id": "z00CeuSyqj0j"
      },
      "execution_count": 74,
      "outputs": []
    },
    {
      "cell_type": "code",
      "source": [
        "# lets apply the function to get padded sequence\n",
        "texts_vectored_padded = do_pad_sequence(texts_vectored, maxlen=maxlen)\n",
        "# texts_vectored_padded = keras.preprocessing.sequence.pad_sequences(texts_vectored, maxlen = maxlen, padding ='post')"
      ],
      "metadata": {
        "id": "XlSjTi0LquFZ"
      },
      "execution_count": 75,
      "outputs": []
    },
    {
      "cell_type": "code",
      "source": [
        "from sklearn.model_selection import train_test_split\n",
        "x_train, x_test, y_train, y_test = train_test_split(texts_vectored_padded, labels, test_size=0.2, random_state = 42, stratify=labels)"
      ],
      "metadata": {
        "id": "QKqa4h3PrMmh"
      },
      "execution_count": 76,
      "outputs": []
    },
    {
      "cell_type": "code",
      "source": [],
      "metadata": {
        "id": "UIlBlBW41fzJ"
      },
      "execution_count": 76,
      "outputs": []
    },
    {
      "cell_type": "code",
      "source": [
        "# to save ram run this\n",
        "# del(texts, spamsDf, hamsDf, texts_vectored, texts_vectored_padded)"
      ],
      "metadata": {
        "id": "pCrKn-mS1fg9"
      },
      "execution_count": 77,
      "outputs": []
    },
    {
      "cell_type": "code",
      "source": [
        "early_stopping = EarlyStopping(monitor='loss', patience=3)"
      ],
      "metadata": {
        "id": "o1F8TfBU14rW"
      },
      "execution_count": 94,
      "outputs": []
    },
    {
      "cell_type": "code",
      "source": [
        "model2 = tf.keras.models.Sequential([\n",
        "    tf.keras.layers.GRU(64, input_shape = inShape),\n",
        "    tf.keras.layers.Dropout(0.5),\n",
        "    tf.keras.layers.Dense(1, activation = 'sigmoid')\n",
        "])\n",
        "\n",
        "model2.compile(optimizer = 'adam', loss = 'binary_crossentropy', metrics = ['Accuracy'])\n",
        "model2.fit(x_train, y_train, epochs = 70, batch_size=16, callbacks=early_stopping)"
      ],
      "metadata": {
        "colab": {
          "base_uri": "https://localhost:8080/"
        },
        "id": "Tk_Uly_MoAED",
        "outputId": "4701a2e4-cd26-4ec2-e76a-eb83028b6e9b"
      },
      "execution_count": 120,
      "outputs": [
        {
          "output_type": "stream",
          "name": "stdout",
          "text": [
            "Epoch 1/70\n",
            "478/478 [==============================] - 6s 8ms/step - loss: 0.6936 - Accuracy: 0.5026\n",
            "Epoch 2/70\n",
            "478/478 [==============================] - 4s 9ms/step - loss: 0.6934 - Accuracy: 0.5012\n",
            "Epoch 3/70\n",
            "478/478 [==============================] - 4s 8ms/step - loss: 0.5751 - Accuracy: 0.6274\n",
            "Epoch 4/70\n",
            "478/478 [==============================] - 4s 8ms/step - loss: 0.1556 - Accuracy: 0.9545\n",
            "Epoch 5/70\n",
            "478/478 [==============================] - 4s 9ms/step - loss: 0.1204 - Accuracy: 0.9629\n",
            "Epoch 6/70\n",
            "478/478 [==============================] - 4s 8ms/step - loss: 0.1031 - Accuracy: 0.9693\n",
            "Epoch 7/70\n",
            "478/478 [==============================] - 6s 13ms/step - loss: 0.0898 - Accuracy: 0.9724\n",
            "Epoch 8/70\n",
            "478/478 [==============================] - 6s 12ms/step - loss: 0.0790 - Accuracy: 0.9762\n",
            "Epoch 9/70\n",
            "478/478 [==============================] - 4s 8ms/step - loss: 0.0692 - Accuracy: 0.9817\n",
            "Epoch 10/70\n",
            "478/478 [==============================] - 4s 9ms/step - loss: 0.0628 - Accuracy: 0.9837\n",
            "Epoch 11/70\n",
            "478/478 [==============================] - 4s 8ms/step - loss: 0.0539 - Accuracy: 0.9863\n",
            "Epoch 12/70\n",
            "478/478 [==============================] - 4s 8ms/step - loss: 0.0513 - Accuracy: 0.9874\n",
            "Epoch 13/70\n",
            "478/478 [==============================] - 4s 8ms/step - loss: 0.0466 - Accuracy: 0.9898\n",
            "Epoch 14/70\n",
            "478/478 [==============================] - 4s 9ms/step - loss: 0.0451 - Accuracy: 0.9897\n",
            "Epoch 15/70\n",
            "478/478 [==============================] - 4s 8ms/step - loss: 0.0450 - Accuracy: 0.9884\n",
            "Epoch 16/70\n",
            "478/478 [==============================] - 4s 8ms/step - loss: 0.0391 - Accuracy: 0.9903\n",
            "Epoch 17/70\n",
            "478/478 [==============================] - 4s 9ms/step - loss: 0.0354 - Accuracy: 0.9925\n",
            "Epoch 18/70\n",
            "478/478 [==============================] - 4s 8ms/step - loss: 0.0373 - Accuracy: 0.9918\n",
            "Epoch 19/70\n",
            "478/478 [==============================] - 4s 8ms/step - loss: 0.0343 - Accuracy: 0.9924\n",
            "Epoch 20/70\n",
            "478/478 [==============================] - 5s 11ms/step - loss: 0.0270 - Accuracy: 0.9952\n",
            "Epoch 21/70\n",
            "478/478 [==============================] - 4s 8ms/step - loss: 0.0265 - Accuracy: 0.9956\n",
            "Epoch 22/70\n",
            "478/478 [==============================] - 4s 8ms/step - loss: 0.0342 - Accuracy: 0.9925\n",
            "Epoch 23/70\n",
            "478/478 [==============================] - 4s 9ms/step - loss: 0.0297 - Accuracy: 0.9941\n",
            "Epoch 24/70\n",
            "478/478 [==============================] - 4s 8ms/step - loss: 0.0319 - Accuracy: 0.9927\n"
          ]
        },
        {
          "output_type": "execute_result",
          "data": {
            "text/plain": [
              "<keras.callbacks.History at 0x7f9b434a0fa0>"
            ]
          },
          "metadata": {},
          "execution_count": 120
        }
      ]
    },
    {
      "cell_type": "code",
      "source": [
        "from sklearn.metrics import classification_report\n",
        "\n",
        "ypred = model2.predict(x_test)\n",
        "print(classification_report(y_test, np.round(ypred)))"
      ],
      "metadata": {
        "colab": {
          "base_uri": "https://localhost:8080/"
        },
        "id": "-8CMo3a2z1Ea",
        "outputId": "36181c52-7463-4ca9-9258-f4d36828928a"
      },
      "execution_count": 121,
      "outputs": [
        {
          "output_type": "stream",
          "name": "stdout",
          "text": [
            "60/60 [==============================] - 1s 5ms/step\n",
            "              precision    recall  f1-score   support\n",
            "\n",
            "         0.0       0.98      0.98      0.98       965\n",
            "         1.0       0.98      0.97      0.98       947\n",
            "\n",
            "    accuracy                           0.98      1912\n",
            "   macro avg       0.98      0.98      0.98      1912\n",
            "weighted avg       0.98      0.98      0.98      1912\n",
            "\n"
          ]
        }
      ]
    },
    {
      "cell_type": "code",
      "source": [],
      "metadata": {
        "id": "hw2qEb3w1PJV"
      },
      "execution_count": 81,
      "outputs": []
    },
    {
      "cell_type": "code",
      "source": [
        "# Pipeline-type-function"
      ],
      "metadata": {
        "id": "1qcI_gCB1PEJ"
      },
      "execution_count": 82,
      "outputs": []
    },
    {
      "cell_type": "code",
      "source": [
        "model2.get_build_config()['input_shape']"
      ],
      "metadata": {
        "colab": {
          "base_uri": "https://localhost:8080/"
        },
        "id": "gdsk8pNr2z1T",
        "outputId": "513f46a6-0eca-4fd1-fca0-809aa1095dee"
      },
      "execution_count": 122,
      "outputs": [
        {
          "output_type": "execute_result",
          "data": {
            "text/plain": [
              "(None, 179, 64)"
            ]
          },
          "metadata": {},
          "execution_count": 122
        }
      ]
    },
    {
      "cell_type": "code",
      "source": [
        "# From The input shape\n",
        "maxlen = model2.get_build_config()['input_shape'][1]"
      ],
      "metadata": {
        "id": "FYS2GyTZ4LFh"
      },
      "execution_count": 165,
      "outputs": []
    },
    {
      "cell_type": "code",
      "source": [
        "def clean_text_tokenize(X:str) -> list:\n",
        "  \"\"\"\n",
        "  Return:\n",
        "  ------\n",
        "  ``1D array of cleaned text with tokenization``\n",
        "  >>> ['sourav', 'busy', 'now]\n",
        "  \"\"\"\n",
        "  stop_words = ['a', 'an', 'the', 'is', 'am', 'are', 'was', 'were', 'have', 'has', 'had', 'might', 'must','and', 'or', 'either', 'neither', 'what', 'when','how', 'where', 'which']\n",
        "  lem = WordNetLemmatizer()\n",
        "  X = contractions.fix(X.lower())\n",
        "  X = re.sub(r'[^a-zA-Z0-9\\s]', '', X)\n",
        "  X = word_tokenize(X)\n",
        "  X = [lem.lemmatize(word) for word in X if word not in stop_words]\n",
        "  return X\n",
        "\n",
        "\n",
        "\n",
        "def update_dictionary(X:list)-> None:\n",
        "  \"\"\"\n",
        "  `X : Need 2D list arrray as input`\n",
        "  \"\"\"\n",
        "  model_wv.build_vocab(X, update=True)\n",
        "  model_wv.train(X, total_examples=model_wv.corpus_count, epochs = 10)\n",
        "\n",
        "\n",
        "def testSpam_w(X:str):\n",
        "  X = clean_text_tokenize(X)\n",
        "  if len(X) > maxlen:\n",
        "    X = X[0:maxlen]\n",
        "  #\n",
        "  # vectorize input text and padding\n",
        "  corpus = model_wv.wv.index_to_key\n",
        "  X = [model_wv.wv[word] for word in X if word in corpus]\n",
        "  X = keras.preprocessing.sequence.pad_sequences([X], maxlen = maxlen, padding = 'post')\n",
        "  X = model2.predict(X)\n",
        "  # return np.round(X)\n",
        "  return X\n"
      ],
      "metadata": {
        "id": "AobpaD6i1S5J"
      },
      "execution_count": 124,
      "outputs": []
    },
    {
      "cell_type": "code",
      "source": [
        "df[df['Spam']==1].head()"
      ],
      "metadata": {
        "id": "Eda0VNfg2cZK",
        "colab": {
          "base_uri": "https://localhost:8080/",
          "height": 297
        },
        "outputId": "82b74073-aae0-4f5d-efb6-fe6f21cf7a1c"
      },
      "execution_count": 86,
      "outputs": [
        {
          "output_type": "execute_result",
          "data": {
            "text/plain": [
              "    Spam                                               Text\n",
              "2      1  Free entry in 2 a wkly comp to win FA Cup fina...\n",
              "5      1  FreeMsg Hey there darling it's been 3 week's n...\n",
              "8      1  WINNER!! As a valued network customer you have...\n",
              "9      1  Had your mobile 11 months or more? U R entitle...\n",
              "11     1  SIX chances to win CASH! From 100 to 20,000 po..."
            ],
            "text/html": [
              "\n",
              "  <div id=\"df-0a44ba9a-8464-438f-8a77-882bbc6a7247\">\n",
              "    <div class=\"colab-df-container\">\n",
              "      <div>\n",
              "<style scoped>\n",
              "    .dataframe tbody tr th:only-of-type {\n",
              "        vertical-align: middle;\n",
              "    }\n",
              "\n",
              "    .dataframe tbody tr th {\n",
              "        vertical-align: top;\n",
              "    }\n",
              "\n",
              "    .dataframe thead th {\n",
              "        text-align: right;\n",
              "    }\n",
              "</style>\n",
              "<table border=\"1\" class=\"dataframe\">\n",
              "  <thead>\n",
              "    <tr style=\"text-align: right;\">\n",
              "      <th></th>\n",
              "      <th>Spam</th>\n",
              "      <th>Text</th>\n",
              "    </tr>\n",
              "  </thead>\n",
              "  <tbody>\n",
              "    <tr>\n",
              "      <th>2</th>\n",
              "      <td>1</td>\n",
              "      <td>Free entry in 2 a wkly comp to win FA Cup fina...</td>\n",
              "    </tr>\n",
              "    <tr>\n",
              "      <th>5</th>\n",
              "      <td>1</td>\n",
              "      <td>FreeMsg Hey there darling it's been 3 week's n...</td>\n",
              "    </tr>\n",
              "    <tr>\n",
              "      <th>8</th>\n",
              "      <td>1</td>\n",
              "      <td>WINNER!! As a valued network customer you have...</td>\n",
              "    </tr>\n",
              "    <tr>\n",
              "      <th>9</th>\n",
              "      <td>1</td>\n",
              "      <td>Had your mobile 11 months or more? U R entitle...</td>\n",
              "    </tr>\n",
              "    <tr>\n",
              "      <th>11</th>\n",
              "      <td>1</td>\n",
              "      <td>SIX chances to win CASH! From 100 to 20,000 po...</td>\n",
              "    </tr>\n",
              "  </tbody>\n",
              "</table>\n",
              "</div>\n",
              "      <button class=\"colab-df-convert\" onclick=\"convertToInteractive('df-0a44ba9a-8464-438f-8a77-882bbc6a7247')\"\n",
              "              title=\"Convert this dataframe to an interactive table.\"\n",
              "              style=\"display:none;\">\n",
              "        \n",
              "  <svg xmlns=\"http://www.w3.org/2000/svg\" height=\"24px\"viewBox=\"0 0 24 24\"\n",
              "       width=\"24px\">\n",
              "    <path d=\"M0 0h24v24H0V0z\" fill=\"none\"/>\n",
              "    <path d=\"M18.56 5.44l.94 2.06.94-2.06 2.06-.94-2.06-.94-.94-2.06-.94 2.06-2.06.94zm-11 1L8.5 8.5l.94-2.06 2.06-.94-2.06-.94L8.5 2.5l-.94 2.06-2.06.94zm10 10l.94 2.06.94-2.06 2.06-.94-2.06-.94-.94-2.06-.94 2.06-2.06.94z\"/><path d=\"M17.41 7.96l-1.37-1.37c-.4-.4-.92-.59-1.43-.59-.52 0-1.04.2-1.43.59L10.3 9.45l-7.72 7.72c-.78.78-.78 2.05 0 2.83L4 21.41c.39.39.9.59 1.41.59.51 0 1.02-.2 1.41-.59l7.78-7.78 2.81-2.81c.8-.78.8-2.07 0-2.86zM5.41 20L4 18.59l7.72-7.72 1.47 1.35L5.41 20z\"/>\n",
              "  </svg>\n",
              "      </button>\n",
              "      \n",
              "  <style>\n",
              "    .colab-df-container {\n",
              "      display:flex;\n",
              "      flex-wrap:wrap;\n",
              "      gap: 12px;\n",
              "    }\n",
              "\n",
              "    .colab-df-convert {\n",
              "      background-color: #E8F0FE;\n",
              "      border: none;\n",
              "      border-radius: 50%;\n",
              "      cursor: pointer;\n",
              "      display: none;\n",
              "      fill: #1967D2;\n",
              "      height: 32px;\n",
              "      padding: 0 0 0 0;\n",
              "      width: 32px;\n",
              "    }\n",
              "\n",
              "    .colab-df-convert:hover {\n",
              "      background-color: #E2EBFA;\n",
              "      box-shadow: 0px 1px 2px rgba(60, 64, 67, 0.3), 0px 1px 3px 1px rgba(60, 64, 67, 0.15);\n",
              "      fill: #174EA6;\n",
              "    }\n",
              "\n",
              "    [theme=dark] .colab-df-convert {\n",
              "      background-color: #3B4455;\n",
              "      fill: #D2E3FC;\n",
              "    }\n",
              "\n",
              "    [theme=dark] .colab-df-convert:hover {\n",
              "      background-color: #434B5C;\n",
              "      box-shadow: 0px 1px 3px 1px rgba(0, 0, 0, 0.15);\n",
              "      filter: drop-shadow(0px 1px 2px rgba(0, 0, 0, 0.3));\n",
              "      fill: #FFFFFF;\n",
              "    }\n",
              "  </style>\n",
              "\n",
              "      <script>\n",
              "        const buttonEl =\n",
              "          document.querySelector('#df-0a44ba9a-8464-438f-8a77-882bbc6a7247 button.colab-df-convert');\n",
              "        buttonEl.style.display =\n",
              "          google.colab.kernel.accessAllowed ? 'block' : 'none';\n",
              "\n",
              "        async function convertToInteractive(key) {\n",
              "          const element = document.querySelector('#df-0a44ba9a-8464-438f-8a77-882bbc6a7247');\n",
              "          const dataTable =\n",
              "            await google.colab.kernel.invokeFunction('convertToInteractive',\n",
              "                                                     [key], {});\n",
              "          if (!dataTable) return;\n",
              "\n",
              "          const docLinkHtml = 'Like what you see? Visit the ' +\n",
              "            '<a target=\"_blank\" href=https://colab.research.google.com/notebooks/data_table.ipynb>data table notebook</a>'\n",
              "            + ' to learn more about interactive tables.';\n",
              "          element.innerHTML = '';\n",
              "          dataTable['output_type'] = 'display_data';\n",
              "          await google.colab.output.renderOutput(dataTable, element);\n",
              "          const docLink = document.createElement('div');\n",
              "          docLink.innerHTML = docLinkHtml;\n",
              "          element.appendChild(docLink);\n",
              "        }\n",
              "      </script>\n",
              "    </div>\n",
              "  </div>\n",
              "  "
            ]
          },
          "metadata": {},
          "execution_count": 86
        }
      ]
    },
    {
      "cell_type": "code",
      "source": [
        "testSpam_w(\"Congratulations!! You have won the VEGAS SINS LOTTERY. Please collect your rewards prize 5000 from us. Email at sourav@gmail.com \")*100"
      ],
      "metadata": {
        "colab": {
          "base_uri": "https://localhost:8080/"
        },
        "id": "An91mFUx41aj",
        "outputId": "cb39a05a-aa89-4fe5-8829-fa3ec1e96c8f"
      },
      "execution_count": 127,
      "outputs": [
        {
          "output_type": "stream",
          "name": "stdout",
          "text": [
            "1/1 [==============================] - 0s 21ms/step\n"
          ]
        },
        {
          "output_type": "execute_result",
          "data": {
            "text/plain": [
              "array([[98.17656]], dtype=float32)"
            ]
          },
          "metadata": {},
          "execution_count": 127
        }
      ]
    },
    {
      "cell_type": "code",
      "source": [
        "testSpam_w(\"only 3 chance to win a bet ! Hit the bell and check your luck . Great chance to win $50000 and receive your prize directly to your bank account\")*100"
      ],
      "metadata": {
        "colab": {
          "base_uri": "https://localhost:8080/"
        },
        "id": "cS_tOxvz5Gaa",
        "outputId": "7a1aaf2a-c37a-4894-f122-30d96b856255"
      },
      "execution_count": 130,
      "outputs": [
        {
          "output_type": "stream",
          "name": "stdout",
          "text": [
            "1/1 [==============================] - 0s 99ms/step\n"
          ]
        },
        {
          "output_type": "execute_result",
          "data": {
            "text/plain": [
              "array([[99.71419]], dtype=float32)"
            ]
          },
          "metadata": {},
          "execution_count": 130
        }
      ]
    },
    {
      "cell_type": "code",
      "source": [
        "testSpam(\"Hey, actually my ex awants to come back nut i am confused bout getting back. I will need some money\")*100"
      ],
      "metadata": {
        "colab": {
          "base_uri": "https://localhost:8080/"
        },
        "id": "nGWJyzgoDbzv",
        "outputId": "8c9a22da-1086-4ba1-f2e1-ee6535119d7a"
      },
      "execution_count": 164,
      "outputs": [
        {
          "output_type": "stream",
          "name": "stdout",
          "text": [
            "1/1 [==============================] - 0s 62ms/step\n"
          ]
        },
        {
          "output_type": "execute_result",
          "data": {
            "text/plain": [
              "array([[0.00883873]], dtype=float32)"
            ]
          },
          "metadata": {},
          "execution_count": 164
        }
      ]
    },
    {
      "cell_type": "code",
      "source": [
        "model2.save('2_SpamDetectModel.h5')"
      ],
      "metadata": {
        "id": "V6yq9AidBTha"
      },
      "execution_count": 131,
      "outputs": []
    }
  ],
  "metadata": {
    "accelerator": "GPU",
    "colab": {
      "collapsed_sections": [
        "ncYTh61lKsef",
        "iS_PceF7LYG3",
        "j4V_wQS0LugH",
        "Y9pm1xrGduso"
      ],
      "provenance": [],
      "gpuType": "T4",
      "authorship_tag": "ABX9TyM/B73ZnIyovaOYke0qxn2D",
      "include_colab_link": true
    },
    "kernelspec": {
      "display_name": "Python 3",
      "name": "python3"
    },
    "language_info": {
      "name": "python"
    }
  },
  "nbformat": 4,
  "nbformat_minor": 0
}